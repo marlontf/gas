{
  "cells": [
    {
      "cell_type": "code",
      "source": [
        "!nvidia smi"
      ],
      "metadata": {
        "id": "yQtLxkelSx-i"
      },
      "execution_count": null,
      "outputs": []
    },
    {
      "cell_type": "markdown",
      "metadata": {
        "id": "VpOdgINqHMrA"
      },
      "source": [
        "# &#x1F5A5; **Minerando com a GPU na Colab** &#x1F5A5;\n",
        "\n",
        "\n",
        "&#x27A1; **Se inscreva no canal pra fortalecer a amizade!** &#x1F44D;\n",
        "\n",
        "&#x27A1; https://www.youtube.com/channel/UCS_umtFzFSSfNJRPvECmceA &#x1F468;&#x200D;&#x1F4BB;"
      ]
    },
    {
      "cell_type": "code",
      "execution_count": null,
      "metadata": {
        "cellView": "form",
        "id": "bmr388YHG48v",
        "colab": {
          "base_uri": "https://localhost:8080/"
        },
        "outputId": "60af8624-4ec6-4e81-8d42-c85183aa3575"
      },
      "outputs": [
        {
          "output_type": "stream",
          "name": "stdout",
          "text": [
            "ssh root@2.tcp.ngrok.io -p 15007\n",
            "\n",
            "Seu usuario: root  Sua senha: 123456\n"
          ]
        }
      ],
      "source": [
        "#@title VPS SSH\n",
        "#@markdown 1 - Copie o token do site https://dashboard.ngrok.com/auth e cole em **Token**\n",
        "\n",
        "#@markdown 2 - Digite o nome do **user** e sua **senha** \n",
        "\n",
        "#@markdown 3 - Execute o código na colab(Lembre-se de verificar se o ambiente é de GPU)\n",
        "! pip install colab_ssh --upgrade &> /dev/null\n",
        "\n",
        "Ngrok = True \n",
        "\n",
        "import time, sys, os\n",
        "Token = \"1rOO5RylbXuMc6CMdcA6VzRnEos_2wYk7L3BXdNhCtSouUJBd\" #@param {type:'string'}\n",
        "User = \"root\" #@param {type:'string'}\n",
        "Senha = \"123456\" #@param {type:'string'}\n",
        "\n",
        "print('\\u001b[32;1m$$\\       $$$$$$\\  $$\\   $$\\   $$\\         $$$$$$$\\   $$$$$$\\ $$$$$$$$\\ ')\n",
        "print('\\u001b[32;1m$$ |     $$$ __$$\\ $$ | $$  |$$$$ |        $$  __$$\\ $$$ __$$\\\\__ $$ __|')\n",
        "print('\\u001b[32;1m$$ |     $$$$\\ $$ |$$ |$$  / \\_$$ |        $$ |  $$ |$$$$\\ $$ |  $$ |   ')\n",
        "print('\\u001b[32;1m$$ |     $$\\$$\\$$ |$$$$$  /    $$ |        $$$$$$$\\ |$$\\$$\\$$ |  $$ |   ')\n",
        "print('\\u001b[32;1m$$ |     $$ \\$$$$ |$$  $$<     $$ |        $$  __$$\\ $$ \\$$$$ |  $$ |   ')\n",
        "print('\\u001b[32;1m$$ |     $$ |\\$$$ |$$ |\\$$\\    $$ |        $$ |  $$ |$$ |\\$$$ |  $$ |   ')\n",
        "print('\\u001b[32;1m$$$$$$$$\\\\$$$$$$   /$$ | \\$$\\ $$$$$$\\       $$$$$$$  |\\$$$$$$ /   $$ |   ')\n",
        "print('\\u001b[32;1m\\________|\\______/ \\__|  \\__|\\______|      \\_______/  \\______/   \\__|   ')\n",
        "for i in range(101):\n",
        "    time.sleep(0.1)\n",
        "    sys.stdout.write(\"\\rCarregando script: %d%%\" % i)\n",
        "    while (i > 101):\n",
        "        os.system('cls')\n",
        "    sys.stdout.flush()\n",
        "print('')    \n",
        "def runNGROK():\n",
        "    from colab_ssh import launch_ssh\n",
        "    from IPython.display import clear_output\n",
        "    launch_ssh(Token, password)\n",
        "    clear_output()\n",
        "\n",
        "    print(\"ssh\", username, end='@')\n",
        "    ! curl -s http://localhost:4040/api/tunnels | python3 -c \\\n",
        "            \"import sys, json; print(json.load(sys.stdin)['tunnels'][0]['public_url'][6:].replace(':', ' -p '))\"\n",
        "\n",
        "try:\n",
        "    if username:\n",
        "        username=User\n",
        "        password= Senha\n",
        "        pass\n",
        "    elif password:\n",
        "        username=User\n",
        "        password= Senha\n",
        "        pass\n",
        "except NameError:\n",
        "    username= User\n",
        "    password= Senha\n",
        "    \n",
        "\n",
        "\n",
        "if Ngrok:\n",
        "    if Token == \"\":\n",
        "        print(\"Você não copiou o token do Ngrok, por favor copie o token e execute o processo novamente!\")\n",
        "    else:\n",
        "        runNGROK()\n",
        "        print(\"\\nSeu usuario:\", username, \" Sua senha:\", password)"
      ]
    },
    {
      "cell_type": "code",
      "execution_count": null,
      "metadata": {
        "cellView": "form",
        "id": "tNmv46YwVNRZ",
        "colab": {
          "base_uri": "https://localhost:8080/"
        },
        "outputId": "537700f9-295f-4bdc-ec82-7f7c2999cda1"
      },
      "outputs": [
        {
          "output_type": "stream",
          "name": "stdout",
          "text": [
            "\u001b[34mTue Feb 15 18:39:33 2022       \n",
            "+-----------------------------------------------------------------------------+\n",
            "| NVIDIA-SMI 460.32.03    Driver Version: 460.32.03    CUDA Version: 11.2     |\n",
            "|-------------------------------+----------------------+----------------------+\n",
            "| GPU  Name        Persistence-M| Bus-Id        Disp.A | Volatile Uncorr. ECC |\n",
            "| Fan  Temp  Perf  Pwr:Usage/Cap|         Memory-Usage | GPU-Util  Compute M. |\n",
            "|                               |                      |               MIG M. |\n",
            "|===============================+======================+======================|\n",
            "|   0  Tesla K80           Off  | 00000000:00:04.0 Off |                    0 |\n",
            "| N/A   33C    P8    28W / 149W |      0MiB / 11441MiB |      0%      Default |\n",
            "|                               |                      |                  N/A |\n",
            "+-------------------------------+----------------------+----------------------+\n",
            "                                                                               \n",
            "+-----------------------------------------------------------------------------+\n",
            "| Processes:                                                                  |\n",
            "|  GPU   GI   CI        PID   Type   Process name                  GPU Memory |\n",
            "|        ID   ID                                                   Usage      |\n",
            "|=============================================================================|\n",
            "|  No running processes found                                                 |\n",
            "+-----------------------------------------------------------------------------+\n"
          ]
        }
      ],
      "source": [
        "#@title **Ativação das 12 Horas** \n",
        "import time\n",
        "!setterm -foreground blue\n",
        "!nvidia-smi\n",
        "ativar = True #@param {type:'boolean'}\n",
        "!\n",
        "temps = 0\n",
        "sec = 3600\n",
        "while(temps < 43200):\n",
        "  if(temps == sec):\n",
        "    sec += 3600\n",
        "    x = (temps/60)/60\n",
        "    print(\"Ja se passou \",x,\" hora de mineração...\")\n",
        "  time.sleep(1)\n",
        "  temps += 1"
      ]
    }
  ],
  "metadata": {
    "accelerator": "GPU",
    "colab": {
      "collapsed_sections": [],
      "name": "GPU_COLAB_SSH.ipynb",
      "provenance": []
    },
    "kernelspec": {
      "display_name": "Python 3",
      "name": "python3"
    },
    "language_info": {
      "name": "python"
    }
  },
  "nbformat": 4,
  "nbformat_minor": 0
}